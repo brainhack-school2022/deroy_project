{
 "cells": [
  {
   "cell_type": "markdown",
   "id": "fac22c02",
   "metadata": {
    "slideshow": {
     "slide_type": "slide"
    }
   },
   "source": [
    "# How to make code easilly accessible and open for user with any type of experience"
   ]
  },
  {
   "cell_type": "markdown",
   "id": "3e8a88ab",
   "metadata": {
    "slideshow": {
     "slide_type": "slide"
    }
   },
   "source": [
    "## Main objectives\n",
    "Take an existing code script it, package it, create a container containing the script and the package and make it as open as possible."
   ]
  },
  {
   "cell_type": "markdown",
   "id": "e761c5d0",
   "metadata": {
    "slideshow": {
     "slide_type": "slide"
    }
   },
   "source": [
    "## Project overview\n",
    "- Scripting\n",
    "- Packaging\n",
    "- Containarizing"
   ]
  },
  {
   "cell_type": "markdown",
   "id": "ac06776e",
   "metadata": {
    "slideshow": {
     "slide_type": "subslide"
    }
   },
   "source": [
    "## Scripting\n",
    "- Formatting the code so that it would easilly work as much generally as possible\n",
    "- Define the workflow of the analysis pipeline\n",
    "- Create a way to easilly pass argument to the script"
   ]
  },
  {
   "cell_type": "markdown",
   "id": "10cdc591",
   "metadata": {
    "slideshow": {
     "slide_type": "subslide"
    }
   },
   "source": [
    "## Packaging\n",
    "- Create all the necessary file to package the whole thing (the script and the code)\n",
    "    - requirements.txt\n",
    "    - pyproject.toml\n",
    "    - setup.py\n",
    "- Package it and upload to test pypi"
   ]
  },
  {
   "cell_type": "markdown",
   "id": "33847738",
   "metadata": {
    "slideshow": {
     "slide_type": "subslide"
    }
   },
   "source": [
    "## Containerizing\n",
    "- Create a dockerfile\n",
    "- Build the docker image based on the dockerfile\n",
    "- Run the container and make sure everything works (remember this part...)"
   ]
  },
  {
   "cell_type": "markdown",
   "id": "a5ead7dc",
   "metadata": {
    "slideshow": {
     "slide_type": "slide"
    }
   },
   "source": [
    "## The script\n",
    "That was the fun part. The idea was to make the code as general as possible. So everything the user may input as parameter/argument had to be definable outside the code.\n",
    "\n",
    "My first idea was to use a .txt with all the arguments name and their values, parse the file and plug those argument to the code. Turns out this doesn't work so I had to use a .json file instead (thank you François).\n",
    "\n",
    " `.json`       | \t            | script          |    \t           | code\n",
    ":-------------:|:--------------:|:---------------:|:--------------:|:--------------------:\n",
    "<img width=100px height=100px src=\"https://cdn-icons-png.flaticon.com/512/136/136443.png\"/>  | <img width=100px height=100px src=\"https://cdn-icons-png.flaticon.com/512/545/545682.png\"/> | <img width=100px height=100px src=\"https://cdn-icons-png.flaticon.com/512/2572/2572499.png\"/>  | <img width=100px height=100px src=\"https://cdn-icons-png.flaticon.com/512/545/545682.png\"/> | <img width=100px height=100px src=\"https://cdn-icons.flaticon.com/png/512/644/premium/644596.png?token=exp=1659035754~hmac=912edf507d8af40c776fbbfe57b28e26\"/>"
   ]
  },
  {
   "cell_type": "markdown",
   "id": "01f7620e",
   "metadata": {
    "slideshow": {
     "slide_type": "slide"
    }
   },
   "source": [
    "## The package\n",
    "The packaging was pretty strait forward. I just added some files (setup.py, requirements.txt, etc.). Then I uploaded it to testPyPi to test if it could be install just like any other package (https://test.pypi.org/project/seed-to-voxel-neurok8050/)."
   ]
  },
  {
   "cell_type": "markdown",
   "id": "b9117221",
   "metadata": {
    "slideshow": {
     "slide_type": "slide"
    }
   },
   "source": [
    "## Docker container\n",
    "That was the unpleasant part. I really wanted to build a Dockerfile from scratch against all the advice from Hao-Ting (using Neurodocker)\n",
    "\n",
    "Was it a idea good idea ?"
   ]
  },
  {
   "cell_type": "markdown",
   "id": "0971a399",
   "metadata": {
    "slideshow": {
     "slide_type": "subslide"
    }
   },
   "source": [
    "## Docker container\n",
    "<img aligh=\"middle\" width=\"500\" height=\"400\" src=\"https://c.tenor.com/XTiqQYf6f_UAAAAd/no-donkeys.gif\">"
   ]
  },
  {
   "cell_type": "markdown",
   "id": "e407d254",
   "metadata": {
    "slideshow": {
     "slide_type": "subslide"
    }
   },
   "source": [
    "## Docker container\n",
    "But... I was still capable to do it. It's not the most beautiful Dockerfile you can find, but it works."
   ]
  },
  {
   "cell_type": "markdown",
   "id": "44f63c86",
   "metadata": {
    "slideshow": {
     "slide_type": "slide"
    }
   },
   "source": [
    "## Problems\n"
   ]
  },
  {
   "cell_type": "code",
   "execution_count": null,
   "id": "7f5dbd9b",
   "metadata": {},
   "outputs": [],
   "source": []
  }
 ],
 "metadata": {
  "celltoolbar": "Slideshow",
  "kernelspec": {
   "display_name": "Python 3",
   "language": "python",
   "name": "python3"
  },
  "language_info": {
   "codemirror_mode": {
    "name": "ipython",
    "version": 3
   },
   "file_extension": ".py",
   "mimetype": "text/x-python",
   "name": "python",
   "nbconvert_exporter": "python",
   "pygments_lexer": "ipython3",
   "version": "3.8.8"
  }
 },
 "nbformat": 4,
 "nbformat_minor": 5
}
