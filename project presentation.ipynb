{
 "cells": [
  {
   "cell_type": "markdown",
   "id": "e8198b7d",
   "metadata": {
    "slideshow": {
     "slide_type": "slide"
    }
   },
   "source": [
    "# An easy guide to \"not throwing your expensive computer out the window because you can't run a Python neuroimaging tool\""
   ]
  },
  {
   "cell_type": "markdown",
   "id": "6f3bb830",
   "metadata": {
    "slideshow": {
     "slide_type": "slide"
    }
   },
   "source": [
    "## Personal background\n",
    "My name is Claudéric, I am a graduate student at Université de Montréal, I'm doing a master in psychology at the moment. I am somewhat experienced with programming and computer science in general. My field of interest is signal processing in neuroimaging/psychophysiological signal. My master project is on the evaluation of different program and pipeline for preprocessing electrodermal activity (EDA) signal."
   ]
  },
  {
   "cell_type": "markdown",
   "id": "8229bb7a",
   "metadata": {
    "slideshow": {
     "slide_type": "slide"
    }
   },
   "source": [
    "## Project background\n",
    "<img align=\"right\" width=\"500\" height=\"400\" src=\"https://c.tenor.com/9ItR8nSuxE0AAAAd/thumbs-up-computer.gif\">Working with computer in the context of neuroimaging is awesome! There is a multitude of tools, programs, pipelines, etc. to analyse the so precious data we have collected."
   ]
  },
  {
   "cell_type": "markdown",
   "id": "42278dc0",
   "metadata": {
    "slideshow": {
     "slide_type": "subslide"
    }
   },
   "source": [
    "## Project background\n",
    "<img align=\"right\" width=\"600\" height=\"400\" src=\"https://c.tenor.com/hKTCoKfeJGQAAAAd/hate-this.gif\">But sometimes, working with a computer might be more a challenge than anything else. I mean we all have been there at least once..."
   ]
  },
  {
   "cell_type": "markdown",
   "id": "597ccfee",
   "metadata": {
    "slideshow": {
     "slide_type": "slide"
    }
   },
   "source": [
    "## Project background\n",
    "But there is no need for all this frustration!\n",
    "With all the awesome tools available, there are some that exist to simplify things."
   ]
  },
  {
   "cell_type": "markdown",
   "id": "15493344",
   "metadata": {
    "slideshow": {
     "slide_type": "slide"
    }
   },
   "source": [
    "## Project background\n",
    "One of the best ways to easily run code for your analysis is to use:\n",
    "\n",
    "Scripting \t\t       \t | Packaging\t\t        \t|  Containerize\n",
    ":-----------------------:|:----------------------------:|:----------------------------:\n",
    "<img width=300px height=300px src=\"https://cdn-icons-png.flaticon.com/512/2572/2572499.png\"/>  |  <img width=300px height=300px src=\"https://cdn-icons-png.flaticon.com/512/814/814989.png\"/>  |  <img width=300px height=300px src=\"https://cdn-icons-png.flaticon.com/512/5969/5969028.png\"/>"
   ]
  },
  {
   "cell_type": "markdown",
   "id": "c8f5c34d",
   "metadata": {
    "slideshow": {
     "slide_type": "notes"
    }
   },
   "source": [
    "There's also another reason why scripting, packaging and especialy containerizing your code is so useful."
   ]
  },
  {
   "cell_type": "markdown",
   "id": "aae7dc0d",
   "metadata": {
    "slideshow": {
     "slide_type": "slide"
    }
   },
   "source": [
    "## Project background\n",
    "In 2012, Gronenschild et al. have found multiple differences in the volumes of brain area using two versions of the same software on different computer as well as on two versions of the same OS. This means that I could run some analysis with software X and another researcher runs the same analysis with the exact same software X but with a more up to date OS than me and we'll get different results."
   ]
  },
  {
   "cell_type": "markdown",
   "id": "f22ef602",
   "metadata": {
    "slideshow": {
     "slide_type": "notes"
    }
   },
   "source": [
    "Gronenschild, E. H. B. M., Habets, P., Jacobs, H. I. L., Mengelers, R., Rozendaal, N., van Os, J., & Marcelis, M. (2012). The Effects of FreeSurfer Version, Workstation Type, and Macintosh Operating System Version on Anatomical Volume and Cortical Thickness Measurements. PLoS ONE, 7(6), e38234. https://doi.org/10.1371/journal.pone.0038234\n"
   ]
  },
  {
   "cell_type": "markdown",
   "id": "d2c4743e",
   "metadata": {
    "slideshow": {
     "slide_type": "slide"
    }
   },
   "source": [
    "## Goals/objectives\n",
    "I mainly want to familiarize myself with scripting, packaging, containerizing and using HPC so that I will be able to redo what I did with the project for future projects."
   ]
  },
  {
   "cell_type": "markdown",
   "id": "c08be7ae",
   "metadata": {
    "slideshow": {
     "slide_type": "subslide"
    }
   },
   "source": [
    "## Goals/objectives\n",
    "Precisely here what I want to do :\n",
    "- Scripting the seed to voxel correlation code\n",
    "- Do same thing but for the machine learning code\n",
    "- Using `git` and GitHub to version control everything I do and make it publicly avaible\n",
    "- Familiarize myself with the use of HPC (Calcul Canada, Brainchack cloud (maybe))\n",
    "- Learn to use Singularity to use Docker container or file within HPC\n",
    "- Containerize everything\n",
    "- Make a useful and easy to follow guide for inexperienced user to install and run everything"
   ]
  },
  {
   "cell_type": "markdown",
   "id": "ee25314b",
   "metadata": {
    "slideshow": {
     "slide_type": "notes"
    }
   },
   "source": [
    "maybe talk about the black box user experience vs the hole package deal"
   ]
  },
  {
   "cell_type": "markdown",
   "id": "ab04e7e5",
   "metadata": {
    "slideshow": {
     "slide_type": "slide"
    }
   },
   "source": [
    "## Tools\n",
    "<img style=\"display: block; margin-left: auto; margin-right: auto; width: 60%\" \n",
    "     src=\"https://laptopmetlinux.nl/wp-content/uploads/Clevo-NL51RU-Linux-laptop-kopen-1-700x700.png\"\n",
    "/>"
   ]
  },
  {
   "cell_type": "markdown",
   "id": "638e2679",
   "metadata": {
    "slideshow": {
     "slide_type": "subslide"
    }
   },
   "source": [
    "## Tools\n",
    "Really, I will use :\n",
    "- [Python](\"https://www.python.org/\")\n",
    "- `git`\n",
    "- [GitHub](\"https://github.com/\")\n",
    "- Scripting and packaging for Python\n",
    "- [Bash](\"https://www.gnu.org/software/bash/\")\n",
    "- [Calcul Canada](\"https://alliancecan.ca/en\") or [Brainhack Cloud](\"https://brainhack.org/brainhack_cloud/\")"
   ]
  },
  {
   "cell_type": "markdown",
   "id": "5dcf5465",
   "metadata": {
    "slideshow": {
     "slide_type": "slide"
    }
   },
   "source": [
    "## Data\n",
    "I don't really have data, because I will work more on code than on data.\n",
    "<img align=\"right\" width=400px height=600px  src=\"https://c.tenor.com/9ud1r4sc-QQAAAAC/confused-john-travolta.gif\">"
   ]
  },
  {
   "cell_type": "markdown",
   "id": "d09f1fce",
   "metadata": {
    "slideshow": {
     "slide_type": "subslide"
    }
   },
   "source": [
    "## Data\n",
    "But, I will still use some data to test everything and to be sure everything is working correctly."
   ]
  },
  {
   "cell_type": "markdown",
   "id": "a00a7753",
   "metadata": {
    "slideshow": {
     "slide_type": "slide"
    }
   },
   "source": [
    "## Deliverables\n",
    "By the end of the project I would want to produce :\n",
    "- The script, package and the container for the seed to voxel correlation code\n",
    "- If the star align properly, I will do the same for the machine learning code as well\n",
    "- A tutorial/guide (document or a video, I haven't decide yet) to explain to someone with zero background in computer science how to install everything and run the code"
   ]
  },
  {
   "cell_type": "markdown",
   "id": "ada15af7",
   "metadata": {
    "slideshow": {
     "slide_type": "slide"
    }
   },
   "source": [
    "## Conclusion\n",
    "My project is more focus on making code (here the seed to voxel correlation code) more accessible, easily installable and more stable across OS, software version, etc.\n",
    "\n",
    "Thank you for your attention!"
   ]
  },
  {
   "cell_type": "markdown",
   "id": "6ab04f08",
   "metadata": {
    "slideshow": {
     "slide_type": "slide"
    }
   },
   "source": [
    "## Questions/comments\n",
    "<img\n",
    "     style=\"display: block; margin-left: auto; margin-right: auto;\"\n",
    "     src=\"https://c.tenor.com/SsaMR3RnlssAAAAd/pussy-cat-cute.gif\"\n",
    "/>"
   ]
  }
 ],
 "metadata": {
  "celltoolbar": "Slideshow",
  "kernelspec": {
   "display_name": "Python 3",
   "language": "python",
   "name": "python3"
  },
  "language_info": {
   "codemirror_mode": {
    "name": "ipython",
    "version": 3
   },
   "file_extension": ".py",
   "mimetype": "text/x-python",
   "name": "python",
   "nbconvert_exporter": "python",
   "pygments_lexer": "ipython3",
   "version": "3.8.8"
  }
 },
 "nbformat": 4,
 "nbformat_minor": 5
}
