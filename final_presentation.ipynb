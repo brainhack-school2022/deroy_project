{
 "cells": [
  {
   "cell_type": "markdown",
   "id": "7180dde5",
   "metadata": {
    "slideshow": {
     "slide_type": "slide"
    }
   },
   "source": [
    "# How to make code easily accessible and open for user with any type of experience in programming"
   ]
  },
  {
   "cell_type": "markdown",
   "id": "5ff99cd3",
   "metadata": {
    "slideshow": {
     "slide_type": "fragment"
    }
   },
   "source": [
    "Claudéric DeRoy"
   ]
  },
  {
   "cell_type": "markdown",
   "id": "591317d5",
   "metadata": {
    "slideshow": {
     "slide_type": "slide"
    }
   },
   "source": [
    "## Main objectives\n",
    "Take an existing code script it, package it, create a container containing the script and the package and make it as open as possible."
   ]
  },
  {
   "cell_type": "markdown",
   "id": "08b173ed",
   "metadata": {
    "slideshow": {
     "slide_type": "slide"
    }
   },
   "source": [
    "## The script\n",
    "That was the fun part. The idea was to make the code as general as possible. So everything the user may input as parameter/argument had to be definable outside the code.\n",
    "\n",
    "My first idea was to use a `.txt` with all the arguments name and their values, parse the file and plug those arguments to the code. Turns out this doesn't work so I had to use a `.json` file instead (thank you François).\n",
    "\n",
    " `.json`       | \t            | script          |    \t           | code\n",
    ":-------------:|:--------------:|:---------------:|:--------------:|:--------------------:\n",
    "<img width=100px height=100px src=\"https://cdn-icons-png.flaticon.com/512/136/136443.png\"/>  | <img width=100px height=100px src=\"https://cdn-icons-png.flaticon.com/512/545/545682.png\"/> | <img width=100px height=100px src=\"https://cdn-icons-png.flaticon.com/512/2572/2572499.png\"/>  | <img width=100px height=100px src=\"https://cdn-icons-png.flaticon.com/512/545/545682.png\"/> | <img width=100px height=100px src=\"https://cdn-icons-png.flaticon.com/512/2282/2282272.png\"/>"
   ]
  },
  {
   "cell_type": "markdown",
   "id": "c5ef9e71",
   "metadata": {
    "slideshow": {
     "slide_type": "slide"
    }
   },
   "source": [
    "## The package\n",
    "The packaging was pretty strait forward. I just added some files (`setup.py`, `requirements.txt`, etc.). Then I uploaded it to testPyPi to test if it could be installed just like any other package (https://test.pypi.org/project/seed-to-voxel-neurok8050/)."
   ]
  },
  {
   "cell_type": "markdown",
   "id": "2f4f756c",
   "metadata": {
    "slideshow": {
     "slide_type": "slide"
    }
   },
   "source": [
    "## Docker container\n",
    "That was the unpleasant part. I really wanted to build a Dockerfile from scratch against all the advice from Hao-Ting (Neurodocker).\n",
    "\n",
    "Was it an idea good idea?"
   ]
  },
  {
   "cell_type": "markdown",
   "id": "c8e2ae76",
   "metadata": {
    "slideshow": {
     "slide_type": "fragment"
    }
   },
   "source": [
    "<img  align=\"left\" width=\"500\" height=\"400\" src=\"https://c.tenor.com/XTiqQYf6f_UAAAAd/no-donkeys.gif\">"
   ]
  },
  {
   "cell_type": "markdown",
   "id": "56098992",
   "metadata": {
    "slideshow": {
     "slide_type": "subslide"
    }
   },
   "source": [
    "## Docker container\n",
    "But... I was still capable to do it. It's not the most beautiful Dockerfile you can find, but it works. I mean the goal of brainhack school was to learn. Well, I somewhat learn how Docker container works."
   ]
  },
  {
   "cell_type": "markdown",
   "id": "e9b84f3c",
   "metadata": {
    "slideshow": {
     "slide_type": "slide"
    }
   },
   "source": [
    "## Problems\n",
    "- The `.txt` file for the script like I said earlier\n",
    "- Some little problems with packaging (forgetting to change the version, syntax/code structure, etc.)"
   ]
  },
  {
   "cell_type": "markdown",
   "id": "567d1955",
   "metadata": {
    "slideshow": {
     "slide_type": "subslide"
    }
   },
   "source": [
    "## Problems\n",
    "Remember I told you to remember about creating and running the container. Well, the real big problem I had was with the Docker container. "
   ]
  },
  {
   "cell_type": "markdown",
   "id": "3d0cc075",
   "metadata": {
    "slideshow": {
     "slide_type": "fragment"
    }
   },
   "source": [
    "I know it's surprising...<img align=\"right\" width=\"500\" height=\"500\" src=\"https://c.tenor.com/gzZyXppSYFoAAAAC/kirk-shocked.gif\">"
   ]
  },
  {
   "cell_type": "markdown",
   "id": "cb300f31",
   "metadata": {
    "slideshow": {
     "slide_type": "subslide"
    }
   },
   "source": [
    "## Docker container\n",
    "So, I was able to `pip install` my package within the container, but for a reason that I don't know. Only the `.py` file got installed. I learn that in order to get files other than `.py`, like my `.json` file super important in that case. I needed to use a `MANIFEST.in` file. So create the `MANIFEST.in`, the `.json` file was now installed with `pip install`. That's not the end..."
   ]
  },
  {
   "cell_type": "markdown",
   "id": "d5551978",
   "metadata": {
    "slideshow": {
     "slide_type": "subslide"
    }
   },
   "source": [
    "## Docker container\n",
    "Turns out the required libraries weren't install either. Actually, the `requirements.txt` file wasn't installed during the `pip install` process. So I added the `requirements.txt` to the `MANIFEST.in`. "
   ]
  },
  {
   "cell_type": "markdown",
   "id": "e4b05721",
   "metadata": {
    "slideshow": {
     "slide_type": "fragment"
    }
   },
   "source": [
    "It hasn't even worked!"
   ]
  },
  {
   "cell_type": "markdown",
   "id": "f960706c",
   "metadata": {
    "slideshow": {
     "slide_type": "subslide"
    }
   },
   "source": [
    "## Docker container\n",
    "I finally did something a little janky..."
   ]
  },
  {
   "cell_type": "markdown",
   "id": "6143951e",
   "metadata": {
    "slideshow": {
     "slide_type": "fragment"
    }
   },
   "source": [
    "I `git clone` the package repository in the container."
   ]
  },
  {
   "cell_type": "markdown",
   "id": "3542eb8b",
   "metadata": {
    "slideshow": {
     "slide_type": "slide"
    }
   },
   "source": [
    "## What did I learn\n",
    "- How to script code and organize it\n",
    "- How to package code and upload it to test.pypi\n",
    "- But mostly how to create Docker container from the ground up"
   ]
  },
  {
   "cell_type": "markdown",
   "id": "81cc11fe",
   "metadata": {
    "slideshow": {
     "slide_type": "slide"
    }
   },
   "source": [
    "## Questions/comments\n",
    "<img\n",
    "     style=\"display: block; margin-left: auto; margin-right: auto;\"\n",
    "     src=\"https://c.tenor.com/SsaMR3RnlssAAAAM/pussy-cat-cute.gif\"\n",
    "/>"
   ]
  }
 ],
 "metadata": {
  "celltoolbar": "Slideshow",
  "kernelspec": {
   "display_name": "Python 3",
   "language": "python",
   "name": "python3"
  },
  "language_info": {
   "codemirror_mode": {
    "name": "ipython",
    "version": 3
   },
   "file_extension": ".py",
   "mimetype": "text/x-python",
   "name": "python",
   "nbconvert_exporter": "python",
   "pygments_lexer": "ipython3",
   "version": "3.8.8"
  }
 },
 "nbformat": 4,
 "nbformat_minor": 5
}
